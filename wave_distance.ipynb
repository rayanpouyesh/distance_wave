{
 "cells": [
  {
   "cell_type": "code",
   "execution_count": 1,
   "id": "af90cdd2",
   "metadata": {},
   "outputs": [
    {
     "name": "stderr",
     "output_type": "stream",
     "text": [
      "D:\\anaconda2\\lib\\site-packages\\pydub\\utils.py:170: RuntimeWarning: Couldn't find ffmpeg or avconv - defaulting to ffmpeg, but may not work\n",
      "  warn(\"Couldn't find ffmpeg or avconv - defaulting to ffmpeg, but may not work\", RuntimeWarning)\n"
     ]
    },
    {
     "data": {
      "text/plain": [
       "<_io.BufferedRandom name='C:/Users/GAMING3/Desktop/1011.wav'>"
      ]
     },
     "execution_count": 1,
     "metadata": {},
     "output_type": "execute_result"
    }
   ],
   "source": [
    "from pydub import AudioSegment\n",
    "# Load audio file\n",
    "audio = AudioSegment.from_file('E:/ASR/Rashin_Dataset_Total/Rashin_Dataset_Total/ASR9-DATA/1011/1011_voice/1011_ (1).wav', format='wav')\n",
    "# Define distance function\n",
    "def apply_distance_effect(audio, distance):\n",
    "    speed_of_sound = 343.2 # meters per second\n",
    "    time_diff = distance / speed_of_sound\n",
    "    new_audio = audio.apply_gain(-time_diff * 1000)\n",
    "    return new_audio\n",
    "\n",
    "# Apply distance effect\n",
    "distance = 10 # meters\n",
    "processed_audio = apply_distance_effect(audio, distance)\n",
    "\n",
    "# Save processed audio to file\n",
    "processed_audio.export('C:/Users/GAMING3/Desktop/1011.wav', format='wav')"
   ]
  },
  {
   "cell_type": "code",
   "execution_count": 2,
   "id": "7b38da50",
   "metadata": {},
   "outputs": [
    {
     "data": {
      "text/plain": [
       "<_io.BufferedRandom name='C:/Users/GAMING3/Desktop/1011a.wav'>"
      ]
     },
     "execution_count": 2,
     "metadata": {},
     "output_type": "execute_result"
    }
   ],
   "source": [
    "from pydub import AudioSegment\n",
    "from pydub.effects import high_pass_filter\n",
    "\n",
    "# Load audio file\n",
    "audio = AudioSegment.from_file('E:/ASR/Rashin_Dataset_Total/Rashin_Dataset_Total/ASR9-DATA/1011/1011_voice/1011_ (1).wav', format='wav')\n",
    "\n",
    "# Define proximity effect function\n",
    "def apply_proximity_effect(audio, distance):\n",
    "    # Apply high-pass filter to reduce low-frequency response\n",
    "    filtered_audio = high_pass_filter(audio, 10)\n",
    "\n",
    "    # Apply gain boost to simulate proximity effect\n",
    "    gain_boost = 12 # decibels\n",
    "    proximity_gain = min(1, distance/10) # limit proximity gain to 1 (no boost) at 5 cm distance\n",
    "    processed_audio = filtered_audio.apply_gain(gain_boost * proximity_gain)\n",
    "\n",
    "    return processed_audio\n",
    "\n",
    "# Apply proximity effect\n",
    "distance = 10 # meters (5 cm)\n",
    "processed_audio = apply_proximity_effect(audio, distance)\n",
    "\n",
    "# Save processed audio to file\n",
    "processed_audio.export('C:/Users/GAMING3/Desktop/1011a.wav', format='wav')"
   ]
  },
  {
   "cell_type": "code",
   "execution_count": 3,
   "id": "30dd3fac",
   "metadata": {},
   "outputs": [],
   "source": [
    "import torch\n",
    "import torchaudio\n",
    "\n",
    "# Load the first audio signal\n",
    "waveform1, sample_rate1 = torchaudio.load('C:/Users/GAMING3/Desktop/1011.wav')\n",
    "\n",
    "# Load the second audio signal\n",
    "waveform2, sample_rate2 = torchaudio.load('C:/Users/GAMING3/Desktop/1011a.wav')\n",
    "\n",
    "# Resample the second audio signal to match the sample rate of the first audio signal\n",
    "resampler = torchaudio.transforms.Resample(sample_rate2, sample_rate1)\n",
    "waveform2 = resampler(waveform2)\n",
    "\n",
    "# Merge the two audio signals\n",
    "merged_waveform = torch.cat([waveform1, waveform2], dim=1)\n",
    "\n",
    "# Save the merged audio signal to a new file\n",
    "torchaudio.save('C:/Users/GAMING3/Desktop/1011aa.wav', merged_waveform, sample_rate1)"
   ]
  },
  {
   "cell_type": "code",
   "execution_count": 4,
   "id": "fbe90c20",
   "metadata": {},
   "outputs": [],
   "source": [
    "import torch\n",
    "import torchaudio\n",
    "\n",
    "# Load the first audio signal\n",
    "waveform1, sample_rate1 = torchaudio.load('C:/Users/GAMING3/Desktop/1011.wav')\n",
    "\n",
    "# Load the second audio signal\n",
    "waveform2, sample_rate2 = torchaudio.load('C:/Users/GAMING3/Desktop/1011a.wav')\n",
    "\n",
    "# Resample the second audio signal to match the sample rate of the first audio signal\n",
    "resampler = torchaudio.transforms.Resample(sample_rate2, sample_rate1)\n",
    "waveform2 = resampler(waveform2)\n",
    "\n",
    "# Combine the two audio signals\n",
    "combined_waveform = waveform1 + waveform2\n",
    "\n",
    "# Save the combined audio signal to a new file\n",
    "torchaudio.save('C:/Users/GAMING3/Desktop/1011aaa.wav', combined_waveform, sample_rate1)"
   ]
  },
  {
   "cell_type": "code",
   "execution_count": null,
   "id": "ac00e23c",
   "metadata": {},
   "outputs": [],
   "source": []
  }
 ],
 "metadata": {
  "kernelspec": {
   "display_name": "Python 3 (ipykernel)",
   "language": "python",
   "name": "python3"
  },
  "language_info": {
   "codemirror_mode": {
    "name": "ipython",
    "version": 3
   },
   "file_extension": ".py",
   "mimetype": "text/x-python",
   "name": "python",
   "nbconvert_exporter": "python",
   "pygments_lexer": "ipython3",
   "version": "3.9.13"
  }
 },
 "nbformat": 4,
 "nbformat_minor": 5
}
